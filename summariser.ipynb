{
  "nbformat": 4,
  "nbformat_minor": 0,
  "metadata": {
    "colab": {
      "provenance": []
    },
    "kernelspec": {
      "name": "python3",
      "display_name": "Python 3"
    },
    "language_info": {
      "name": "python"
    }
  },
  "cells": [
    {
      "cell_type": "code",
      "execution_count": null,
      "metadata": {
        "id": "JvJueo7GwSmy"
      },
      "outputs": [],
      "source": [
        "import nltk\n",
        "nltk.download('punkt')\n",
        "nltk.download('wordnet')\n",
        "nltk.download('stopwords')\n",
        "from nltk.tokenize import sent_tokenize, word_tokenize\n",
        "from nltk.stem.porter import PorterStemmer\n",
        "from nltk.stem import WordNetLemmatizer\n",
        "from nltk.corpus import stopwords\n",
        "from nltk.cluster.util import cosine_distance\n",
        "import networkx as nx\n",
        "\n",
        "from sumy.parsers.plaintext import PlaintextParser\n",
        "from sumy.nlp.tokenizers import Tokenizer\n",
        "from sumy.summarizers.lex_rank import LexRankSummarizer"
      ]
    },
    {
      "cell_type": "markdown",
      "source": [
        "## summarizers"
      ],
      "metadata": {
        "id": "s-PDunt7qt99"
      }
    },
    {
      "cell_type": "code",
      "source": [
        "text = df[\"content\"].iloc[0]\n",
        "text"
      ],
      "metadata": {
        "colab": {
          "base_uri": "https://localhost:8080/"
        },
        "id": "yzNUYJIBm-lm",
        "outputId": "cf778bb2-83e5-4d03-f9ed-905fe3103db5"
      },
      "execution_count": null,
      "outputs": [
        {
          "output_type": "execute_result",
          "data": {
            "text/plain": [
              "'My brother in-law (Sammy) lost his home shortly after his divorce 10 months ago. He moved in with us and brought his twin daughters (Olivia & Sloane18) with him a couple of months ago.\\nHis sister (my wife) and I have one daughter (Zoey 16) and she and her cousins aren\\'t close but get along fine.\\n\\nOlivia & Sloane have no respect for Zoey\\'s privacy, none. they used to walk into her room and take everything they get their hands on. Makeup, phone accessories, clothes, school laptop etc. Zoey complained a lot and I\\'ve already asked the girls to respect Zoey\\'s privacy and stop taking things. My wife and Sammy saw no issue with this. After all, they\\'re girls and this\\'s typical teenage girls behavior. I completely disagreed. \\n\\nLast straw was when Zoey bought a 60$ m.a.c makeup-kit that looks like a paintset that she saved up for over a month and one of the girls, Sloane took it without permission and ruined it by mixing shades together while using it. Don\\'t know much about makeup but that\\'s what Zoey said when she found the kit on her bed, and was crying.\\nI told my wife and she said she\\'d ask Sloane to apologize but I got Zoey a lock after I found she was moving valuable belongings out the house because of this incidence!!!\\n\\nSammy and his daughters saw the lock and weren\\'t happy, the girls were extremely upset.\\nSammy asked about it and I straight up told him. He said \"my daughters aren\\'t thieves!!! it\\'s normal that girls of the same age borrow each others stuff\" he said Zoey could easily get another makeup kit for 15 bucks from walmart and shouldn\\'t even be buying expensive - adult makeup in the first place and suggested my wife take care of this \"defect\" in Zoey\\'s personality trying to appear older than she is.\\nHe accused me of being overprotective and babying Zoey with this level of enablement.\\n\\nI told him this\\'s between me and my wife but she shamed me for putting a lock on Zoey\\'s door for her cousins to see and preventing them from \"spending time\" with her saying I was supposed to treat them like daughters, then demanded I remove it but I said this lock does not get removed til her brother and his daughters are out of our house.\\n\\nShe got mad I was implying we kick them out and said her family\\'ll hate me for this. so I reminded her that I let Sammy and his family move in which\\'s something her OWN family refused to do so she should start with shaming/blaming them for not taking their own son and nieces/granddaughters in. if it wasn\\'t for her family\\'s unwillingness to help we wouldn\\'t be dealing with this much disturbance at home.\\n\\nEveryone\\'s been giving me and Zoey silent treatment and my wife is very much upset over this.'"
            ],
            "application/vnd.google.colaboratory.intrinsic+json": {
              "type": "string"
            }
          },
          "metadata": {},
          "execution_count": 23
        }
      ]
    },
    {
      "cell_type": "code",
      "source": [
        "# Initialize parser and tokenizer\n",
        "parser = PlaintextParser.from_string(text, Tokenizer(\"english\"))\n",
        "\n",
        "# Initialize LexRank summarizer\n",
        "summarizer = LexRankSummarizer()\n",
        "\n",
        "# Get the summary\n",
        "summary = summarizer(parser.document, sentences_count=3)  # Adjust the number of sentences in the summary as needed\n",
        "\n",
        "# Print the summary\n",
        "for sentence in summary:\n",
        "    print(sentence)"
      ],
      "metadata": {
        "colab": {
          "base_uri": "https://localhost:8080/"
        },
        "id": "-k17jcebnqkQ",
        "outputId": "cffddcec-8ea8-4661-af72-0dea97baf6eb"
      },
      "execution_count": null,
      "outputs": [
        {
          "output_type": "stream",
          "name": "stdout",
          "text": [
            "He moved in with us and brought his twin daughters (Olivia & Sloane18) with him a couple of months ago.\n",
            "I told my wife and she said she'd ask Sloane to apologize but I got Zoey a lock after I found she was moving valuable belongings out the house because of this incidence!!\n",
            "I told him this's between me and my wife but she shamed me for putting a lock on Zoey's door for her cousins to see and preventing them from \"spending time\" with her saying I was supposed to treat them like daughters, then demanded I remove it but I said this lock does not get removed til her brother and his daughters are out of our house.\n"
          ]
        }
      ]
    },
    {
      "cell_type": "code",
      "source": [
        "# Summarize the text\n",
        "summary = pyteaser.Summarize(text)\n",
        "\n",
        "# Print the summary\n",
        "for sentence in summary:\n",
        "    print(sentence)"
      ],
      "metadata": {
        "id": "A2FWVeobqphk"
      },
      "execution_count": null,
      "outputs": []
    },
    {
      "cell_type": "code",
      "source": [
        "def read_article(text):\n",
        "    # Tokenize the text into sentences\n",
        "    sentences = sent_tokenize(text)\n",
        "    return sentences\n",
        "\n",
        "def sentence_similarity(sent1, sent2, stopwords=None):\n",
        "    # Tokenize and remove stopwords\n",
        "    if stopwords is None:\n",
        "        stopwords = []\n",
        "    sent1 = [word.lower() for word in word_tokenize(sent1) if word.lower() not in stopwords]\n",
        "    sent2 = [word.lower() for word in word_tokenize(sent2) if word.lower() not in stopwords]\n",
        "\n",
        "    # Create a set of all unique words in both sentences\n",
        "    all_words = list(set(sent1 + sent2))\n",
        "\n",
        "    # Create vectors to represent each sentence\n",
        "    vector1 = [0] * len(all_words)\n",
        "    vector2 = [0] * len(all_words)\n",
        "\n",
        "    # Count word occurrences\n",
        "    for word in sent1:\n",
        "        vector1[all_words.index(word)] += 1\n",
        "\n",
        "    for word in sent2:\n",
        "        vector2[all_words.index(word)] += 1\n",
        "\n",
        "    # Calculate cosine similarity\n",
        "    return 1 - cosine_distance(vector1, vector2)\n",
        "\n",
        "def build_similarity_matrix(sentences, stopwords):\n",
        "    # Create an empty similarity matrix\n",
        "    similarity_matrix = np.zeros((len(sentences), len(sentences)))\n",
        "\n",
        "    # Fill the similarity matrix with cosine similarity scores\n",
        "    for idx1 in range(len(sentences)):\n",
        "        for idx2 in range(len(sentences)):\n",
        "            if idx1 == idx2:\n",
        "                continue\n",
        "            similarity_matrix[idx1][idx2] = sentence_similarity(sentences[idx1], sentences[idx2], stopwords)\n",
        "\n",
        "    return similarity_matrix\n",
        "\n",
        "def generate_summary(text, top_n=5):\n",
        "    # Load English stopwords\n",
        "    stop_words = stopwords.words('english')\n",
        "\n",
        "    # Tokenize the text into sentences\n",
        "    sentences = read_article(text)\n",
        "\n",
        "    # Generate the sentence similarity matrix\n",
        "    sentence_similarity_matrix = build_similarity_matrix(sentences, stop_words)\n",
        "\n",
        "    # Convert the similarity matrix into a graph\n",
        "    sentence_similarity_graph = nx.from_numpy_array(sentence_similarity_matrix)\n",
        "\n",
        "    # Apply the PageRank algorithm to rank the sentences\n",
        "    scores = nx.pagerank(sentence_similarity_graph)\n",
        "\n",
        "    # Sort the sentences by their scores\n",
        "    ranked_sentences = sorted(((scores[i], s) for i, s in enumerate(sentences)), reverse=True)\n",
        "\n",
        "    # Extract the top sentences as the summary\n",
        "    summary = ' '.join([sentence for score, sentence in ranked_sentences[:top_n]])\n",
        "\n",
        "    return summary\n",
        "\n",
        "# Example usage:\n",
        "text = df[\"content\"].iloc[0]\n",
        "summary = generate_summary(text, top_n=2)\n",
        "summary"
      ],
      "metadata": {
        "colab": {
          "base_uri": "https://localhost:8080/"
        },
        "id": "J1qwBTo8moIa",
        "outputId": "5724718a-ba9c-4037-f4e4-2e154ed4c9a7"
      },
      "execution_count": null,
      "outputs": [
        {
          "output_type": "execute_result",
          "data": {
            "text/plain": [
              "\"Don't know much about makeup but that's what Zoey said when she found the kit on her bed, and was crying. Olivia & Sloane have no respect for Zoey's privacy, none.\""
            ],
            "application/vnd.google.colaboratory.intrinsic+json": {
              "type": "string"
            }
          },
          "metadata": {},
          "execution_count": 15
        }
      ]
    }
  ]
}